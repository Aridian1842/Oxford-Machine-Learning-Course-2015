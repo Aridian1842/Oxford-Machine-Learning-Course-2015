{
 "cells": [
  {
   "cell_type": "code",
   "execution_count": 33,
   "metadata": {
    "collapsed": false
   },
   "outputs": [
    {
     "name": "stdout",
     "output_type": "stream",
     "text": [
      "#No\tTarget\tPrediction\n",
      "0\t40\t40.61\n",
      "1\t44\t40.06\n",
      "2\t46\t42.49\n",
      "3\t48\t47.63\n",
      "4\t52\t52.77\n",
      "5\t58\t60.61\n",
      "6\t60\t65.48\n",
      "7\t68\t81.43\n",
      "8\t74\t83.87\n",
      "9\t80\t91.17\n"
     ]
    }
   ],
   "source": [
    "import numpy as np\n",
    "\n",
    "LOOPS = int(1e4)\n",
    "NPAMATERS = 3\n",
    "training_examples = np.array([[40,  6,  4],\n",
    "   [44, 10,  4],\n",
    "   [46, 12,  5],\n",
    "   [48, 14,  7],\n",
    "   [52, 16,  9],\n",
    "   [58, 18, 12],\n",
    "   [60, 22, 14],\n",
    "   [68, 24, 20],\n",
    "   [74, 26, 21],\n",
    "   [80, 32, 24]])\n",
    "\n",
    "def NN(xs, thetas):\n",
    "    o = 0\n",
    "    for i in range(len(xs)):\n",
    "        o = o + xs[i] * thetas[i]\n",
    "    return o    \n",
    "def MSE(thetas, inputs, outputs):\n",
    "    pass\n",
    "def test(thetas, training_examples):\n",
    "    i = 0\n",
    "    print(\"#No\\tTarget\\tPrediction\")\n",
    "    for record in training_examples:\n",
    "        prediction = NN(thetas, [1] + list(record[1:]))\n",
    "        target = record[0]\n",
    "        print(\"{}\\t{}\\t{:.2f}\".format(i, target, prediction))\n",
    "        i += 1\n",
    "def GD(training_examples, alpha):\n",
    "    # init thetas\n",
    "    thetas = np.random.rand(NPAMATERS)\n",
    "    for i in range(LOOPS):\n",
    "        deltas = np.zeros(NPAMATERS)\n",
    "        for record in training_examples:\n",
    "            inputs = [1] + list(record[1:])\n",
    "            output = record[0]\n",
    "            o = NN(inputs, thetas)\n",
    "            for j in range(NPAMATERS):\n",
    "                deltas[j] = deltas[j] + alpha * (output - o) * inputs[j]\n",
    "            for j in range(NPAMATERS):\n",
    "                thetas[j] = thetas[j] + deltas[j]\n",
    "    return thetas\n",
    "def SGD(training_examples, alpha):\n",
    "    # init thetas\n",
    "    thetas = np.random.rand(NPAMATERS)\n",
    "    for i in range(LOOPS):\n",
    "        deltas = np.zeros(NPAMATERS)\n",
    "        for record in training_examples:\n",
    "            inputs = [1] + list(record[1:])\n",
    "            output = record[0]\n",
    "            o = NN(inputs, thetas)\n",
    "            for j in range(NPAMATERS):\n",
    "                thetas[j] = deltas[j] + alpha * (output - o) * inputs[j]\n",
    "    return thetas\n",
    "thetas = GD(training_examples, 0.001)\n",
    "test(thetas, training_examples)"
   ]
  },
  {
   "cell_type": "code",
   "execution_count": 34,
   "metadata": {
    "collapsed": false
   },
   "outputs": [
    {
     "name": "stdout",
     "output_type": "stream",
     "text": [
      "#No\tTarget\tPrediction\n",
      "0\t40\t41.45\n",
      "1\t44\t42.71\n",
      "2\t46\t44.82\n",
      "3\t48\t48.42\n",
      "4\t52\t52.02\n",
      "5\t58\t57.11\n",
      "6\t60\t61.34\n",
      "7\t68\t70.88\n",
      "8\t74\t72.99\n",
      "9\t80\t79.33\n"
     ]
    }
   ],
   "source": [
    "def SGD(training_examples, alpha):\n",
    "    # init thetas\n",
    "    thetas = np.random.rand(NPAMATERS)\n",
    "    for i in range(LOOPS):\n",
    "        for record in training_examples:\n",
    "            inputs = [1] + list(record[1:])\n",
    "            output = record[0]\n",
    "            o = NN(inputs, thetas)\n",
    "            for j in range(NPAMATERS):\n",
    "                thetas[j] = thetas[j] + alpha * (output - o) * inputs[j]\n",
    "    return thetas\n",
    "thetas = SGD(training_examples, 0.001)\n",
    "test(thetas, training_examples)"
   ]
  },
  {
   "cell_type": "code",
   "execution_count": null,
   "metadata": {
    "collapsed": true
   },
   "outputs": [],
   "source": []
  }
 ],
 "metadata": {
  "kernelspec": {
   "display_name": "Python 3",
   "language": "python",
   "name": "python3"
  },
  "language_info": {
   "codemirror_mode": {
    "name": "ipython",
    "version": 3
   },
   "file_extension": ".py",
   "mimetype": "text/x-python",
   "name": "python",
   "nbconvert_exporter": "python",
   "pygments_lexer": "ipython3",
   "version": "3.4.3"
  }
 },
 "nbformat": 4,
 "nbformat_minor": 0
}
