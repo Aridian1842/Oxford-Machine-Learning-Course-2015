{
 "cells": [
  {
   "cell_type": "markdown",
   "metadata": {},
   "source": [
    "## Lecture2: Linear prediction"
   ]
  },
  {
   "cell_type": "markdown",
   "metadata": {},
   "source": [
    "### 目标\n",
    "\n",
    "1. 理解监督式学习\n",
    "2. 理解线性回归 linear regression（也就是 `最小二乘法`）\n",
    "3. 理解如何使用线性回归进行预测\n",
    "4. 学习如何推导最小二乘估计"
   ]
  },
  {
   "cell_type": "markdown",
   "metadata": {
    "collapsed": true
   },
   "source": [
    "### 线性监督式学习\n",
    "\n",
    "1. 许多真实过程可以通过线性模型拟合\n",
    "2. 线性回归通常作为大型系统的模块出现\n",
    "3. 线性问题可以通过分析法解决\n",
    "4. 线性预测涉及到很多机器学习中的核心概念"
   ]
  },
  {
   "cell_type": "markdown",
   "metadata": {},
   "source": [
    "包含 $n$ 个训练样本的（输入-输出对）数据集合：$\\{x_{1:n}, y_{1:n}\\}$，其中每一输入数据 $x \\in R^{1 \\times d}$，拥有 $d$ 个属性的向量，eg："
   ]
  },
  {
   "cell_type": "markdown",
   "metadata": {},
   "source": [
    "$$x_{1:n} = \\{x_1, x_2, ..., x_n\\}$$\n",
    "$$x_i = [x_{11}, x_{12}, ..., x_{1d}]$$"
   ]
  },
  {
   "cell_type": "markdown",
   "metadata": {},
   "source": [
    "![](imgs/L2-1.png)"
   ]
  },
  {
   "cell_type": "markdown",
   "metadata": {},
   "source": [
    "根据训练样本集合$\\{x_{1:n}, y_{1:n}\\}$我们可以得到一个模型，用于预测新的输入所对应的输出，这个过程就是**训练**或**学习**；对于新的输入值$x_{n+1}$，我们可以得到对应的预测值$ \\widehat{y}(x_{n+1}) $"
   ]
  },
  {
   "cell_type": "markdown",
   "metadata": {},
   "source": [
    "假设输入与输入之间关系的模型为：$\\widehat{y}(x_i) = \\theta_1 + x_i\\theta_2$，我们可以通过**最小化目标函数**的方法来确定模型中的参数值："
   ]
  },
  {
   "cell_type": "markdown",
   "metadata": {},
   "source": [
    "$$J(\\theta) = \\sum_{i=1}^n(y_i - \\widehat{y_i})^2 = \\sum_{i=1}^n(y_i - \\theta_1 - x_i\\theta_2)^2$$"
   ]
  },
  {
   "cell_type": "markdown",
   "metadata": {},
   "source": [
    "### 线性预测"
   ]
  },
  {
   "cell_type": "markdown",
   "metadata": {},
   "source": [
    "输入与输出之间呈线性关系："
   ]
  },
  {
   "cell_type": "markdown",
   "metadata": {},
   "source": [
    "$$\\widehat{y_i} = \\sum_{j=1}^dx_{ij}\\theta_j$$"
   ]
  },
  {
   "cell_type": "markdown",
   "metadata": {},
   "source": [
    "$= x_{i1}\\theta_1 + x_{i2}\\theta_2 + ... + x_{id}\\theta_d$"
   ]
  },
  {
   "cell_type": "markdown",
   "metadata": {},
   "source": [
    "用矩阵表示法表示：\n",
    "\n",
    "$$\\mathbf{\\widehat{y}} = \\mathbf{X\\theta} $$"
   ]
  },
  {
   "cell_type": "markdown",
   "metadata": {},
   "source": [
    "其中：$\\widehat{y} \\in R^{n \\times d}$，$\\mathbf{X} \\in R^{d \\times 1}$，$\\mathbf{\\theta} \\in R^{d \\times 1}$"
   ]
  },
  {
   "cell_type": "markdown",
   "metadata": {},
   "source": [
    "![](imgs/L2-2.png)"
   ]
  },
  {
   "cell_type": "markdown",
   "metadata": {},
   "source": [
    "### 优化策略\n",
    "\n",
    "最小化：\n",
    "\n",
    "$$J(\\mathbf{\\theta}) = (\\mathbf{y-X\\theta})^T(\\mathbf{y-X\\theta}) = \\sum_{i=1}^n(y_i - x_i^T\\mathbf{\\theta})$$"
   ]
  },
  {
   "cell_type": "markdown",
   "metadata": {},
   "source": [
    "![](imgs/L2-3.png)"
   ]
  },
  {
   "cell_type": "markdown",
   "metadata": {},
   "source": [
    "### 通过求导求解"
   ]
  },
  {
   "cell_type": "markdown",
   "metadata": {},
   "source": [
    "### Torch 求解"
   ]
  },
  {
   "cell_type": "code",
   "execution_count": null,
   "metadata": {
    "collapsed": true
   },
   "outputs": [],
   "source": []
  }
 ],
 "metadata": {
  "kernelspec": {
   "display_name": "iTorch",
   "language": "lua",
   "name": "itorch"
  },
  "language_info": {
   "name": "lua",
   "version": "20100"
  }
 },
 "nbformat": 4,
 "nbformat_minor": 0
}
